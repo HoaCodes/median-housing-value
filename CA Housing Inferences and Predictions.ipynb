{
 "cells": [
  {
   "cell_type": "markdown",
   "metadata": {},
   "source": [
    "The goal of this notebook is to use the 9 predictors to predict the median house value (median house value). https://www.kaggle.com/harrywang/housing#housing.csv. I will preprocess data and demonstrate two purposes of inferences and predictions in this notebook.\n",
    "- The goal of inferences is to estimate association between dependent variables and key predictors. \n",
    "- The goal of predictions is to pick a model that performs best at predicting outcome. "
   ]
  },
  {
   "cell_type": "code",
   "execution_count": 4,
   "metadata": {},
   "outputs": [],
   "source": [
    "# Importing necessary libraries\n",
    "import numpy as np\n",
    "import pandas as pd\n",
    "import statsmodels.api as sm\n",
    "import matplotlib.pyplot as plt\n",
    "%matplotlib inline\n",
    "\n",
    "import warnings # Suppress warnings\n",
    "warnings.filterwarnings('ignore') "
   ]
  },
  {
   "cell_type": "code",
   "execution_count": 5,
   "metadata": {},
   "outputs": [
    {
     "data": {
      "text/html": [
       "<div>\n",
       "<style scoped>\n",
       "    .dataframe tbody tr th:only-of-type {\n",
       "        vertical-align: middle;\n",
       "    }\n",
       "\n",
       "    .dataframe tbody tr th {\n",
       "        vertical-align: top;\n",
       "    }\n",
       "\n",
       "    .dataframe thead th {\n",
       "        text-align: right;\n",
       "    }\n",
       "</style>\n",
       "<table border=\"1\" class=\"dataframe\">\n",
       "  <thead>\n",
       "    <tr style=\"text-align: right;\">\n",
       "      <th></th>\n",
       "      <th>longitude</th>\n",
       "      <th>latitude</th>\n",
       "      <th>housing_median_age</th>\n",
       "      <th>total_rooms</th>\n",
       "      <th>total_bedrooms</th>\n",
       "      <th>population</th>\n",
       "      <th>households</th>\n",
       "      <th>median_income</th>\n",
       "      <th>median_house_value</th>\n",
       "      <th>ocean_proximity</th>\n",
       "    </tr>\n",
       "  </thead>\n",
       "  <tbody>\n",
       "    <tr>\n",
       "      <th>0</th>\n",
       "      <td>-122.23</td>\n",
       "      <td>37.88</td>\n",
       "      <td>41.0</td>\n",
       "      <td>880.0</td>\n",
       "      <td>129.0</td>\n",
       "      <td>322.0</td>\n",
       "      <td>126.0</td>\n",
       "      <td>8.3252</td>\n",
       "      <td>452600.0</td>\n",
       "      <td>NEAR BAY</td>\n",
       "    </tr>\n",
       "    <tr>\n",
       "      <th>1</th>\n",
       "      <td>-122.22</td>\n",
       "      <td>37.86</td>\n",
       "      <td>21.0</td>\n",
       "      <td>7099.0</td>\n",
       "      <td>1106.0</td>\n",
       "      <td>2401.0</td>\n",
       "      <td>1138.0</td>\n",
       "      <td>8.3014</td>\n",
       "      <td>358500.0</td>\n",
       "      <td>NEAR BAY</td>\n",
       "    </tr>\n",
       "    <tr>\n",
       "      <th>2</th>\n",
       "      <td>-122.24</td>\n",
       "      <td>37.85</td>\n",
       "      <td>52.0</td>\n",
       "      <td>1467.0</td>\n",
       "      <td>190.0</td>\n",
       "      <td>496.0</td>\n",
       "      <td>177.0</td>\n",
       "      <td>7.2574</td>\n",
       "      <td>352100.0</td>\n",
       "      <td>NEAR BAY</td>\n",
       "    </tr>\n",
       "    <tr>\n",
       "      <th>3</th>\n",
       "      <td>-122.25</td>\n",
       "      <td>37.85</td>\n",
       "      <td>52.0</td>\n",
       "      <td>1274.0</td>\n",
       "      <td>235.0</td>\n",
       "      <td>558.0</td>\n",
       "      <td>219.0</td>\n",
       "      <td>5.6431</td>\n",
       "      <td>341300.0</td>\n",
       "      <td>NEAR BAY</td>\n",
       "    </tr>\n",
       "    <tr>\n",
       "      <th>4</th>\n",
       "      <td>-122.25</td>\n",
       "      <td>37.85</td>\n",
       "      <td>52.0</td>\n",
       "      <td>1627.0</td>\n",
       "      <td>280.0</td>\n",
       "      <td>565.0</td>\n",
       "      <td>259.0</td>\n",
       "      <td>3.8462</td>\n",
       "      <td>342200.0</td>\n",
       "      <td>NEAR BAY</td>\n",
       "    </tr>\n",
       "  </tbody>\n",
       "</table>\n",
       "</div>"
      ],
      "text/plain": [
       "   longitude  latitude  housing_median_age  total_rooms  total_bedrooms  \\\n",
       "0    -122.23     37.88                41.0        880.0           129.0   \n",
       "1    -122.22     37.86                21.0       7099.0          1106.0   \n",
       "2    -122.24     37.85                52.0       1467.0           190.0   \n",
       "3    -122.25     37.85                52.0       1274.0           235.0   \n",
       "4    -122.25     37.85                52.0       1627.0           280.0   \n",
       "\n",
       "   population  households  median_income  median_house_value ocean_proximity  \n",
       "0       322.0       126.0         8.3252            452600.0        NEAR BAY  \n",
       "1      2401.0      1138.0         8.3014            358500.0        NEAR BAY  \n",
       "2       496.0       177.0         7.2574            352100.0        NEAR BAY  \n",
       "3       558.0       219.0         5.6431            341300.0        NEAR BAY  \n",
       "4       565.0       259.0         3.8462            342200.0        NEAR BAY  "
      ]
     },
     "execution_count": 5,
     "metadata": {},
     "output_type": "execute_result"
    }
   ],
   "source": [
    "# Loading housing data file. Rename the file because there is other existing housing file in the notebook.\n",
    "housing = pd.read_csv('housingfinal.csv')\n",
    "# Checking how the first 5 rows of data look\n",
    "housing.head(5)"
   ]
  },
  {
   "cell_type": "code",
   "execution_count": 6,
   "metadata": {},
   "outputs": [
    {
     "name": "stdout",
     "output_type": "stream",
     "text": [
      "<class 'pandas.core.frame.DataFrame'>\n",
      "RangeIndex: 20640 entries, 0 to 20639\n",
      "Data columns (total 10 columns):\n",
      " #   Column              Non-Null Count  Dtype  \n",
      "---  ------              --------------  -----  \n",
      " 0   longitude           20640 non-null  float64\n",
      " 1   latitude            20640 non-null  float64\n",
      " 2   housing_median_age  20640 non-null  float64\n",
      " 3   total_rooms         20640 non-null  float64\n",
      " 4   total_bedrooms      20433 non-null  float64\n",
      " 5   population          20640 non-null  float64\n",
      " 6   households          20640 non-null  float64\n",
      " 7   median_income       20640 non-null  float64\n",
      " 8   median_house_value  20640 non-null  float64\n",
      " 9   ocean_proximity     20640 non-null  object \n",
      "dtypes: float64(9), object(1)\n",
      "memory usage: 1.6+ MB\n"
     ]
    }
   ],
   "source": [
    "# Checking variable data types\n",
    "housing.info()"
   ]
  },
  {
   "cell_type": "code",
   "execution_count": 7,
   "metadata": {},
   "outputs": [
    {
     "data": {
      "text/plain": [
       "(20640, 10)"
      ]
     },
     "execution_count": 7,
     "metadata": {},
     "output_type": "execute_result"
    }
   ],
   "source": [
    "# checking data shape\n",
    "housing.shape"
   ]
  },
  {
   "cell_type": "markdown",
   "metadata": {},
   "source": [
    "Let's start with Preprocessing Data"
   ]
  },
  {
   "cell_type": "markdown",
   "metadata": {},
   "source": [
    "## 1. Preprocess Data"
   ]
  },
  {
   "cell_type": "markdown",
   "metadata": {},
   "source": [
    "There are some missing values in the data set. I am going to remove the rows that contain missing values. Report the dimension of the final data set."
   ]
  },
  {
   "cell_type": "code",
   "execution_count": 8,
   "metadata": {},
   "outputs": [
    {
     "data": {
      "text/plain": [
       "longitude               0\n",
       "latitude                0\n",
       "housing_median_age      0\n",
       "total_rooms             0\n",
       "total_bedrooms        207\n",
       "population              0\n",
       "households              0\n",
       "median_income           0\n",
       "median_house_value      0\n",
       "ocean_proximity         0\n",
       "dtype: int64"
      ]
     },
     "execution_count": 8,
     "metadata": {},
     "output_type": "execute_result"
    }
   ],
   "source": [
    "# Checking for variables with the highest missing values.\n",
    "# We might be interested to see the portion of missing values.\n",
    "housing.isnull().sum()"
   ]
  },
  {
   "cell_type": "code",
   "execution_count": 9,
   "metadata": {},
   "outputs": [],
   "source": [
    "# Since the missing value portion seems small, we can drop missing values and all other observations\n",
    "housing = housing.dropna()"
   ]
  },
  {
   "cell_type": "code",
   "execution_count": 10,
   "metadata": {},
   "outputs": [
    {
     "data": {
      "text/plain": [
       "(20433, 10)"
      ]
     },
     "execution_count": 10,
     "metadata": {},
     "output_type": "execute_result"
    }
   ],
   "source": [
    "# Report the final total housing data observations and its dimensions\n",
    "housing.shape"
   ]
  },
  {
   "cell_type": "markdown",
   "metadata": {},
   "source": [
    "## 2. Inferences"
   ]
  },
  {
   "cell_type": "markdown",
   "metadata": {},
   "source": [
    "### a. Build a linear regression model using all features and all observations. Perform model diagnostics. Also, suggest potential transformation(s) to the variable(s) (provide evidence, and specify which variable(s) to transform). "
   ]
  },
  {
   "cell_type": "markdown",
   "metadata": {},
   "source": [
    "#### First, build a linear regression model"
   ]
  },
  {
   "cell_type": "code",
   "execution_count": 11,
   "metadata": {},
   "outputs": [
    {
     "name": "stdout",
     "output_type": "stream",
     "text": [
      "<1H OCEAN     9034\n",
      "INLAND        6496\n",
      "NEAR OCEAN    2628\n",
      "NEAR BAY      2270\n",
      "ISLAND           5\n",
      "Name: ocean_proximity, dtype: int64\n"
     ]
    }
   ],
   "source": [
    "# Dummy variable\n",
    "# Counting values of variable categories. \n",
    "print(housing.ocean_proximity.value_counts())"
   ]
  },
  {
   "cell_type": "code",
   "execution_count": 12,
   "metadata": {},
   "outputs": [
    {
     "data": {
      "text/html": [
       "<div>\n",
       "<style scoped>\n",
       "    .dataframe tbody tr th:only-of-type {\n",
       "        vertical-align: middle;\n",
       "    }\n",
       "\n",
       "    .dataframe tbody tr th {\n",
       "        vertical-align: top;\n",
       "    }\n",
       "\n",
       "    .dataframe thead th {\n",
       "        text-align: right;\n",
       "    }\n",
       "</style>\n",
       "<table border=\"1\" class=\"dataframe\">\n",
       "  <thead>\n",
       "    <tr style=\"text-align: right;\">\n",
       "      <th></th>\n",
       "      <th>longitude</th>\n",
       "      <th>latitude</th>\n",
       "      <th>housing_median_age</th>\n",
       "      <th>total_rooms</th>\n",
       "      <th>total_bedrooms</th>\n",
       "      <th>population</th>\n",
       "      <th>households</th>\n",
       "      <th>median_income</th>\n",
       "      <th>median_house_value</th>\n",
       "      <th>INLAND</th>\n",
       "      <th>ISLAND</th>\n",
       "      <th>NEAR BAY</th>\n",
       "      <th>NEAR OCEAN</th>\n",
       "    </tr>\n",
       "  </thead>\n",
       "  <tbody>\n",
       "    <tr>\n",
       "      <th>0</th>\n",
       "      <td>-122.23</td>\n",
       "      <td>37.88</td>\n",
       "      <td>41.0</td>\n",
       "      <td>880.0</td>\n",
       "      <td>129.0</td>\n",
       "      <td>322.0</td>\n",
       "      <td>126.0</td>\n",
       "      <td>8.3252</td>\n",
       "      <td>452600.0</td>\n",
       "      <td>0</td>\n",
       "      <td>0</td>\n",
       "      <td>1</td>\n",
       "      <td>0</td>\n",
       "    </tr>\n",
       "    <tr>\n",
       "      <th>1</th>\n",
       "      <td>-122.22</td>\n",
       "      <td>37.86</td>\n",
       "      <td>21.0</td>\n",
       "      <td>7099.0</td>\n",
       "      <td>1106.0</td>\n",
       "      <td>2401.0</td>\n",
       "      <td>1138.0</td>\n",
       "      <td>8.3014</td>\n",
       "      <td>358500.0</td>\n",
       "      <td>0</td>\n",
       "      <td>0</td>\n",
       "      <td>1</td>\n",
       "      <td>0</td>\n",
       "    </tr>\n",
       "    <tr>\n",
       "      <th>2</th>\n",
       "      <td>-122.24</td>\n",
       "      <td>37.85</td>\n",
       "      <td>52.0</td>\n",
       "      <td>1467.0</td>\n",
       "      <td>190.0</td>\n",
       "      <td>496.0</td>\n",
       "      <td>177.0</td>\n",
       "      <td>7.2574</td>\n",
       "      <td>352100.0</td>\n",
       "      <td>0</td>\n",
       "      <td>0</td>\n",
       "      <td>1</td>\n",
       "      <td>0</td>\n",
       "    </tr>\n",
       "    <tr>\n",
       "      <th>3</th>\n",
       "      <td>-122.25</td>\n",
       "      <td>37.85</td>\n",
       "      <td>52.0</td>\n",
       "      <td>1274.0</td>\n",
       "      <td>235.0</td>\n",
       "      <td>558.0</td>\n",
       "      <td>219.0</td>\n",
       "      <td>5.6431</td>\n",
       "      <td>341300.0</td>\n",
       "      <td>0</td>\n",
       "      <td>0</td>\n",
       "      <td>1</td>\n",
       "      <td>0</td>\n",
       "    </tr>\n",
       "    <tr>\n",
       "      <th>4</th>\n",
       "      <td>-122.25</td>\n",
       "      <td>37.85</td>\n",
       "      <td>52.0</td>\n",
       "      <td>1627.0</td>\n",
       "      <td>280.0</td>\n",
       "      <td>565.0</td>\n",
       "      <td>259.0</td>\n",
       "      <td>3.8462</td>\n",
       "      <td>342200.0</td>\n",
       "      <td>0</td>\n",
       "      <td>0</td>\n",
       "      <td>1</td>\n",
       "      <td>0</td>\n",
       "    </tr>\n",
       "  </tbody>\n",
       "</table>\n",
       "</div>"
      ],
      "text/plain": [
       "   longitude  latitude  housing_median_age  total_rooms  total_bedrooms  \\\n",
       "0    -122.23     37.88                41.0        880.0           129.0   \n",
       "1    -122.22     37.86                21.0       7099.0          1106.0   \n",
       "2    -122.24     37.85                52.0       1467.0           190.0   \n",
       "3    -122.25     37.85                52.0       1274.0           235.0   \n",
       "4    -122.25     37.85                52.0       1627.0           280.0   \n",
       "\n",
       "   population  households  median_income  median_house_value  INLAND  ISLAND  \\\n",
       "0       322.0       126.0         8.3252            452600.0       0       0   \n",
       "1      2401.0      1138.0         8.3014            358500.0       0       0   \n",
       "2       496.0       177.0         7.2574            352100.0       0       0   \n",
       "3       558.0       219.0         5.6431            341300.0       0       0   \n",
       "4       565.0       259.0         3.8462            342200.0       0       0   \n",
       "\n",
       "   NEAR BAY  NEAR OCEAN  \n",
       "0         1           0  \n",
       "1         1           0  \n",
       "2         1           0  \n",
       "3         1           0  \n",
       "4         1           0  "
      ]
     },
     "execution_count": 12,
     "metadata": {},
     "output_type": "execute_result"
    }
   ],
   "source": [
    "# Creating dummy variable for the ocean_proximity variable\n",
    "ocean_dummies = pd.get_dummies(housing.ocean_proximity, drop_first = True)\n",
    "housing = pd.concat([housing, ocean_dummies], axis = 1)\n",
    "housing.drop(columns = 'ocean_proximity',inplace = True)\n",
    "housing.head()"
   ]
  },
  {
   "cell_type": "code",
   "execution_count": 13,
   "metadata": {},
   "outputs": [
    {
     "data": {
      "text/html": [
       "<div>\n",
       "<style scoped>\n",
       "    .dataframe tbody tr th:only-of-type {\n",
       "        vertical-align: middle;\n",
       "    }\n",
       "\n",
       "    .dataframe tbody tr th {\n",
       "        vertical-align: top;\n",
       "    }\n",
       "\n",
       "    .dataframe thead th {\n",
       "        text-align: right;\n",
       "    }\n",
       "</style>\n",
       "<table border=\"1\" class=\"dataframe\">\n",
       "  <thead>\n",
       "    <tr style=\"text-align: right;\">\n",
       "      <th></th>\n",
       "      <th>longitude</th>\n",
       "      <th>latitude</th>\n",
       "      <th>housing_median_age</th>\n",
       "      <th>total_rooms</th>\n",
       "      <th>total_bedrooms</th>\n",
       "      <th>population</th>\n",
       "      <th>households</th>\n",
       "      <th>median_income</th>\n",
       "      <th>median_house_value</th>\n",
       "      <th>INLAND</th>\n",
       "      <th>ISLAND</th>\n",
       "      <th>NEAR BAY</th>\n",
       "      <th>NEAR OCEAN</th>\n",
       "    </tr>\n",
       "  </thead>\n",
       "  <tbody>\n",
       "    <tr>\n",
       "      <th>count</th>\n",
       "      <td>20433.000000</td>\n",
       "      <td>20433.000000</td>\n",
       "      <td>20433.000000</td>\n",
       "      <td>20433.000000</td>\n",
       "      <td>20433.000000</td>\n",
       "      <td>20433.000000</td>\n",
       "      <td>20433.000000</td>\n",
       "      <td>20433.000000</td>\n",
       "      <td>20433.000000</td>\n",
       "      <td>20433.000000</td>\n",
       "      <td>20433.000000</td>\n",
       "      <td>20433.000000</td>\n",
       "      <td>20433.000000</td>\n",
       "    </tr>\n",
       "    <tr>\n",
       "      <th>mean</th>\n",
       "      <td>-119.570689</td>\n",
       "      <td>35.633221</td>\n",
       "      <td>28.633094</td>\n",
       "      <td>2636.504233</td>\n",
       "      <td>537.870553</td>\n",
       "      <td>1424.946949</td>\n",
       "      <td>499.433465</td>\n",
       "      <td>3.871162</td>\n",
       "      <td>206864.413155</td>\n",
       "      <td>0.317917</td>\n",
       "      <td>0.000245</td>\n",
       "      <td>0.111095</td>\n",
       "      <td>0.128615</td>\n",
       "    </tr>\n",
       "    <tr>\n",
       "      <th>std</th>\n",
       "      <td>2.003578</td>\n",
       "      <td>2.136348</td>\n",
       "      <td>12.591805</td>\n",
       "      <td>2185.269567</td>\n",
       "      <td>421.385070</td>\n",
       "      <td>1133.208490</td>\n",
       "      <td>382.299226</td>\n",
       "      <td>1.899291</td>\n",
       "      <td>115435.667099</td>\n",
       "      <td>0.465678</td>\n",
       "      <td>0.015641</td>\n",
       "      <td>0.314257</td>\n",
       "      <td>0.334782</td>\n",
       "    </tr>\n",
       "    <tr>\n",
       "      <th>min</th>\n",
       "      <td>-124.350000</td>\n",
       "      <td>32.540000</td>\n",
       "      <td>1.000000</td>\n",
       "      <td>2.000000</td>\n",
       "      <td>1.000000</td>\n",
       "      <td>3.000000</td>\n",
       "      <td>1.000000</td>\n",
       "      <td>0.499900</td>\n",
       "      <td>14999.000000</td>\n",
       "      <td>0.000000</td>\n",
       "      <td>0.000000</td>\n",
       "      <td>0.000000</td>\n",
       "      <td>0.000000</td>\n",
       "    </tr>\n",
       "    <tr>\n",
       "      <th>25%</th>\n",
       "      <td>-121.800000</td>\n",
       "      <td>33.930000</td>\n",
       "      <td>18.000000</td>\n",
       "      <td>1450.000000</td>\n",
       "      <td>296.000000</td>\n",
       "      <td>787.000000</td>\n",
       "      <td>280.000000</td>\n",
       "      <td>2.563700</td>\n",
       "      <td>119500.000000</td>\n",
       "      <td>0.000000</td>\n",
       "      <td>0.000000</td>\n",
       "      <td>0.000000</td>\n",
       "      <td>0.000000</td>\n",
       "    </tr>\n",
       "    <tr>\n",
       "      <th>50%</th>\n",
       "      <td>-118.490000</td>\n",
       "      <td>34.260000</td>\n",
       "      <td>29.000000</td>\n",
       "      <td>2127.000000</td>\n",
       "      <td>435.000000</td>\n",
       "      <td>1166.000000</td>\n",
       "      <td>409.000000</td>\n",
       "      <td>3.536500</td>\n",
       "      <td>179700.000000</td>\n",
       "      <td>0.000000</td>\n",
       "      <td>0.000000</td>\n",
       "      <td>0.000000</td>\n",
       "      <td>0.000000</td>\n",
       "    </tr>\n",
       "    <tr>\n",
       "      <th>75%</th>\n",
       "      <td>-118.010000</td>\n",
       "      <td>37.720000</td>\n",
       "      <td>37.000000</td>\n",
       "      <td>3143.000000</td>\n",
       "      <td>647.000000</td>\n",
       "      <td>1722.000000</td>\n",
       "      <td>604.000000</td>\n",
       "      <td>4.744000</td>\n",
       "      <td>264700.000000</td>\n",
       "      <td>1.000000</td>\n",
       "      <td>0.000000</td>\n",
       "      <td>0.000000</td>\n",
       "      <td>0.000000</td>\n",
       "    </tr>\n",
       "    <tr>\n",
       "      <th>max</th>\n",
       "      <td>-114.310000</td>\n",
       "      <td>41.950000</td>\n",
       "      <td>52.000000</td>\n",
       "      <td>39320.000000</td>\n",
       "      <td>6445.000000</td>\n",
       "      <td>35682.000000</td>\n",
       "      <td>6082.000000</td>\n",
       "      <td>15.000100</td>\n",
       "      <td>500001.000000</td>\n",
       "      <td>1.000000</td>\n",
       "      <td>1.000000</td>\n",
       "      <td>1.000000</td>\n",
       "      <td>1.000000</td>\n",
       "    </tr>\n",
       "  </tbody>\n",
       "</table>\n",
       "</div>"
      ],
      "text/plain": [
       "          longitude      latitude  housing_median_age   total_rooms  \\\n",
       "count  20433.000000  20433.000000        20433.000000  20433.000000   \n",
       "mean    -119.570689     35.633221           28.633094   2636.504233   \n",
       "std        2.003578      2.136348           12.591805   2185.269567   \n",
       "min     -124.350000     32.540000            1.000000      2.000000   \n",
       "25%     -121.800000     33.930000           18.000000   1450.000000   \n",
       "50%     -118.490000     34.260000           29.000000   2127.000000   \n",
       "75%     -118.010000     37.720000           37.000000   3143.000000   \n",
       "max     -114.310000     41.950000           52.000000  39320.000000   \n",
       "\n",
       "       total_bedrooms    population    households  median_income  \\\n",
       "count    20433.000000  20433.000000  20433.000000   20433.000000   \n",
       "mean       537.870553   1424.946949    499.433465       3.871162   \n",
       "std        421.385070   1133.208490    382.299226       1.899291   \n",
       "min          1.000000      3.000000      1.000000       0.499900   \n",
       "25%        296.000000    787.000000    280.000000       2.563700   \n",
       "50%        435.000000   1166.000000    409.000000       3.536500   \n",
       "75%        647.000000   1722.000000    604.000000       4.744000   \n",
       "max       6445.000000  35682.000000   6082.000000      15.000100   \n",
       "\n",
       "       median_house_value        INLAND        ISLAND      NEAR BAY  \\\n",
       "count        20433.000000  20433.000000  20433.000000  20433.000000   \n",
       "mean        206864.413155      0.317917      0.000245      0.111095   \n",
       "std         115435.667099      0.465678      0.015641      0.314257   \n",
       "min          14999.000000      0.000000      0.000000      0.000000   \n",
       "25%         119500.000000      0.000000      0.000000      0.000000   \n",
       "50%         179700.000000      0.000000      0.000000      0.000000   \n",
       "75%         264700.000000      1.000000      0.000000      0.000000   \n",
       "max         500001.000000      1.000000      1.000000      1.000000   \n",
       "\n",
       "         NEAR OCEAN  \n",
       "count  20433.000000  \n",
       "mean       0.128615  \n",
       "std        0.334782  \n",
       "min        0.000000  \n",
       "25%        0.000000  \n",
       "50%        0.000000  \n",
       "75%        0.000000  \n",
       "max        1.000000  "
      ]
     },
     "execution_count": 13,
     "metadata": {},
     "output_type": "execute_result"
    }
   ],
   "source": [
    "# checking a summary of statistics\n",
    "housing.describe()"
   ]
  },
  {
   "cell_type": "code",
   "execution_count": 14,
   "metadata": {},
   "outputs": [],
   "source": [
    "# Defining x, y variables\n",
    "X = housing.copy()\n",
    "X.drop(columns = 'median_house_value', inplace = True)\n",
    "y = housing.median_house_value"
   ]
  },
  {
   "cell_type": "code",
   "execution_count": 15,
   "metadata": {},
   "outputs": [
    {
     "data": {
      "text/html": [
       "<table class=\"simpletable\">\n",
       "<caption>OLS Regression Results</caption>\n",
       "<tr>\n",
       "  <th>Dep. Variable:</th>    <td>median_house_value</td> <th>  R-squared:         </th>  <td>   0.646</td>  \n",
       "</tr>\n",
       "<tr>\n",
       "  <th>Model:</th>                    <td>OLS</td>        <th>  Adj. R-squared:    </th>  <td>   0.646</td>  \n",
       "</tr>\n",
       "<tr>\n",
       "  <th>Method:</th>              <td>Least Squares</td>   <th>  F-statistic:       </th>  <td>   3112.</td>  \n",
       "</tr>\n",
       "<tr>\n",
       "  <th>Date:</th>              <td>Wed, 03 Jun 2020</td>  <th>  Prob (F-statistic):</th>   <td>  0.00</td>   \n",
       "</tr>\n",
       "<tr>\n",
       "  <th>Time:</th>                  <td>04:54:01</td>      <th>  Log-Likelihood:    </th> <td>-2.5655e+05</td>\n",
       "</tr>\n",
       "<tr>\n",
       "  <th>No. Observations:</th>       <td> 20433</td>       <th>  AIC:               </th>  <td>5.131e+05</td> \n",
       "</tr>\n",
       "<tr>\n",
       "  <th>Df Residuals:</th>           <td> 20420</td>       <th>  BIC:               </th>  <td>5.132e+05</td> \n",
       "</tr>\n",
       "<tr>\n",
       "  <th>Df Model:</th>               <td>    12</td>       <th>                     </th>      <td> </td>     \n",
       "</tr>\n",
       "<tr>\n",
       "  <th>Covariance Type:</th>       <td>nonrobust</td>     <th>                     </th>      <td> </td>     \n",
       "</tr>\n",
       "</table>\n",
       "<table class=\"simpletable\">\n",
       "<tr>\n",
       "           <td></td>             <th>coef</th>     <th>std err</th>      <th>t</th>      <th>P>|t|</th>  <th>[0.025</th>    <th>0.975]</th>  \n",
       "</tr>\n",
       "<tr>\n",
       "  <th>const</th>              <td> -2.27e+06</td> <td>  8.8e+04</td> <td>  -25.791</td> <td> 0.000</td> <td>-2.44e+06</td> <td> -2.1e+06</td>\n",
       "</tr>\n",
       "<tr>\n",
       "  <th>longitude</th>          <td>-2.681e+04</td> <td> 1019.651</td> <td>  -26.296</td> <td> 0.000</td> <td>-2.88e+04</td> <td>-2.48e+04</td>\n",
       "</tr>\n",
       "<tr>\n",
       "  <th>latitude</th>           <td>-2.548e+04</td> <td> 1004.702</td> <td>  -25.363</td> <td> 0.000</td> <td>-2.75e+04</td> <td>-2.35e+04</td>\n",
       "</tr>\n",
       "<tr>\n",
       "  <th>housing_median_age</th> <td> 1072.5200</td> <td>   43.886</td> <td>   24.439</td> <td> 0.000</td> <td>  986.501</td> <td> 1158.540</td>\n",
       "</tr>\n",
       "<tr>\n",
       "  <th>total_rooms</th>        <td>   -6.1933</td> <td>    0.791</td> <td>   -7.825</td> <td> 0.000</td> <td>   -7.745</td> <td>   -4.642</td>\n",
       "</tr>\n",
       "<tr>\n",
       "  <th>total_bedrooms</th>     <td>  100.5563</td> <td>    6.869</td> <td>   14.640</td> <td> 0.000</td> <td>   87.093</td> <td>  114.019</td>\n",
       "</tr>\n",
       "<tr>\n",
       "  <th>population</th>         <td>  -37.9691</td> <td>    1.076</td> <td>  -35.282</td> <td> 0.000</td> <td>  -40.078</td> <td>  -35.860</td>\n",
       "</tr>\n",
       "<tr>\n",
       "  <th>households</th>         <td>   49.6173</td> <td>    7.451</td> <td>    6.659</td> <td> 0.000</td> <td>   35.012</td> <td>   64.222</td>\n",
       "</tr>\n",
       "<tr>\n",
       "  <th>median_income</th>      <td> 3.926e+04</td> <td>  338.005</td> <td>  116.151</td> <td> 0.000</td> <td> 3.86e+04</td> <td> 3.99e+04</td>\n",
       "</tr>\n",
       "<tr>\n",
       "  <th>INLAND</th>             <td>-3.928e+04</td> <td> 1744.258</td> <td>  -22.522</td> <td> 0.000</td> <td>-4.27e+04</td> <td>-3.59e+04</td>\n",
       "</tr>\n",
       "<tr>\n",
       "  <th>ISLAND</th>             <td> 1.529e+05</td> <td> 3.07e+04</td> <td>    4.974</td> <td> 0.000</td> <td> 9.26e+04</td> <td> 2.13e+05</td>\n",
       "</tr>\n",
       "<tr>\n",
       "  <th>NEAR BAY</th>           <td>-3954.0516</td> <td> 1913.339</td> <td>   -2.067</td> <td> 0.039</td> <td>-7704.350</td> <td> -203.753</td>\n",
       "</tr>\n",
       "<tr>\n",
       "  <th>NEAR OCEAN</th>         <td> 4278.1343</td> <td> 1569.525</td> <td>    2.726</td> <td> 0.006</td> <td> 1201.739</td> <td> 7354.530</td>\n",
       "</tr>\n",
       "</table>\n",
       "<table class=\"simpletable\">\n",
       "<tr>\n",
       "  <th>Omnibus:</th>       <td>5049.292</td> <th>  Durbin-Watson:     </th> <td>   0.977</td> \n",
       "</tr>\n",
       "<tr>\n",
       "  <th>Prob(Omnibus):</th>  <td> 0.000</td>  <th>  Jarque-Bera (JB):  </th> <td>19123.138</td>\n",
       "</tr>\n",
       "<tr>\n",
       "  <th>Skew:</th>           <td> 1.197</td>  <th>  Prob(JB):          </th> <td>    0.00</td> \n",
       "</tr>\n",
       "<tr>\n",
       "  <th>Kurtosis:</th>       <td> 7.090</td>  <th>  Cond. No.          </th> <td>7.24e+05</td> \n",
       "</tr>\n",
       "</table><br/><br/>Warnings:<br/>[1] Standard Errors assume that the covariance matrix of the errors is correctly specified.<br/>[2] The condition number is large, 7.24e+05. This might indicate that there are<br/>strong multicollinearity or other numerical problems."
      ],
      "text/plain": [
       "<class 'statsmodels.iolib.summary.Summary'>\n",
       "\"\"\"\n",
       "                            OLS Regression Results                            \n",
       "==============================================================================\n",
       "Dep. Variable:     median_house_value   R-squared:                       0.646\n",
       "Model:                            OLS   Adj. R-squared:                  0.646\n",
       "Method:                 Least Squares   F-statistic:                     3112.\n",
       "Date:                Wed, 03 Jun 2020   Prob (F-statistic):               0.00\n",
       "Time:                        04:54:01   Log-Likelihood:            -2.5655e+05\n",
       "No. Observations:               20433   AIC:                         5.131e+05\n",
       "Df Residuals:                   20420   BIC:                         5.132e+05\n",
       "Df Model:                          12                                         \n",
       "Covariance Type:            nonrobust                                         \n",
       "======================================================================================\n",
       "                         coef    std err          t      P>|t|      [0.025      0.975]\n",
       "--------------------------------------------------------------------------------------\n",
       "const               -2.27e+06    8.8e+04    -25.791      0.000   -2.44e+06    -2.1e+06\n",
       "longitude          -2.681e+04   1019.651    -26.296      0.000   -2.88e+04   -2.48e+04\n",
       "latitude           -2.548e+04   1004.702    -25.363      0.000   -2.75e+04   -2.35e+04\n",
       "housing_median_age  1072.5200     43.886     24.439      0.000     986.501    1158.540\n",
       "total_rooms           -6.1933      0.791     -7.825      0.000      -7.745      -4.642\n",
       "total_bedrooms       100.5563      6.869     14.640      0.000      87.093     114.019\n",
       "population           -37.9691      1.076    -35.282      0.000     -40.078     -35.860\n",
       "households            49.6173      7.451      6.659      0.000      35.012      64.222\n",
       "median_income       3.926e+04    338.005    116.151      0.000    3.86e+04    3.99e+04\n",
       "INLAND             -3.928e+04   1744.258    -22.522      0.000   -4.27e+04   -3.59e+04\n",
       "ISLAND              1.529e+05   3.07e+04      4.974      0.000    9.26e+04    2.13e+05\n",
       "NEAR BAY           -3954.0516   1913.339     -2.067      0.039   -7704.350    -203.753\n",
       "NEAR OCEAN          4278.1343   1569.525      2.726      0.006    1201.739    7354.530\n",
       "==============================================================================\n",
       "Omnibus:                     5049.292   Durbin-Watson:                   0.977\n",
       "Prob(Omnibus):                  0.000   Jarque-Bera (JB):            19123.138\n",
       "Skew:                           1.197   Prob(JB):                         0.00\n",
       "Kurtosis:                       7.090   Cond. No.                     7.24e+05\n",
       "==============================================================================\n",
       "\n",
       "Warnings:\n",
       "[1] Standard Errors assume that the covariance matrix of the errors is correctly specified.\n",
       "[2] The condition number is large, 7.24e+05. This might indicate that there are\n",
       "strong multicollinearity or other numerical problems.\n",
       "\"\"\""
      ]
     },
     "execution_count": 15,
     "metadata": {},
     "output_type": "execute_result"
    }
   ],
   "source": [
    "# Fit a linear regression using the statsmodels library\n",
    "X_intercept = sm.add_constant(X) # adding intercept\n",
    "LinearReg = sm.OLS(y, X_intercept).fit() # fitting linear regression\n",
    "LinearReg.summary() # model sumary"
   ]
  },
  {
   "cell_type": "markdown",
   "metadata": {},
   "source": [
    "#### Second, I am going to do model diagnostics"
   ]
  },
  {
   "cell_type": "code",
   "execution_count": 16,
   "metadata": {},
   "outputs": [
    {
     "data": {
      "image/png": "[encoded data removed]",
      "text/plain": [
       "<Figure size 432x288 with 1 Axes>"
      ]
     },
     "metadata": {
      "needs_background": "light"
     },
     "output_type": "display_data"
    }
   ],
   "source": [
    "# Visualize reduduals and fited values\n",
    "plt.scatter(LinearReg.fittedvalues, LinearReg.resid)\n",
    "plt.xlabel('Fitted Values')\n",
    "plt.ylabel('Residuals')\n",
    "plt.title('Residuals vs Fitted Values')\n",
    "plt.show()"
   ]
  },
  {
   "cell_type": "code",
   "execution_count": 17,
   "metadata": {},
   "outputs": [
    {
     "data": {
      "image/png": "[encoded data removed]",
      "text/plain": [
       "<Figure size 432x288 with 1 Axes>"
      ]
     },
     "metadata": {
      "needs_background": "light"
     },
     "output_type": "display_data"
    }
   ],
   "source": [
    "# QQ Plot\n",
    "qqplot = sm.qqplot(LinearReg.resid)"
   ]
  },
  {
   "cell_type": "markdown",
   "metadata": {},
   "source": [
    "- R_squared (0.646)tells us that 64.6% of the variability of out model was captured by the linear line. It is acceptable.\n",
    "- P_values of all coeffients appears statistically significant. There are relationships between independent variables and dependent one. "
   ]
  },
  {
   "cell_type": "markdown",
   "metadata": {},
   "source": [
    "To check linear model assumptions we look at the following points. \n",
    "- Linearity and Homoscedasticity: There is a same range in the residuals plot accept a small portion of outliners. This tells that linearity between independent and dependent variable is satisfied. \n",
    "- Normality of Residuals: The qqplot shows a relatively straight line, which is an indication that normality of residuals is satisfied.\n",
    "We can improve this model by removing outliners. "
   ]
  },
  {
   "cell_type": "markdown",
   "metadata": {},
   "source": [
    "#### Third, we suggest potential transformation(s) to the variable(s) (provide evidence, and specify which variable(s) to transform)."
   ]
  },
  {
   "cell_type": "markdown",
   "metadata": {},
   "source": [
    "Data skewness of 1.197 in OLS Regression Results tells us that the data is skewed right. Data distribution is not normal. In order to solve this problem, we need data transformation. However, let examinate which variables are needed to transform."
   ]
  },
  {
   "cell_type": "code",
   "execution_count": 18,
   "metadata": {},
   "outputs": [
    {
     "data": {
      "text/plain": [
       "(array([12.,  0.,  0.,  0.,  0.,  0.,  0.,  0.,  0.,  1.]),\n",
       " array([1.56414287e-02, 1.15435808e+04, 2.30871459e+04, 3.46307111e+04,\n",
       "        4.61742762e+04, 5.77178414e+04, 6.92614065e+04, 8.08049717e+04,\n",
       "        9.23485368e+04, 1.03892102e+05, 1.15435667e+05]),\n",
       " <a list of 10 Patch objects>)"
      ]
     },
     "execution_count": 18,
     "metadata": {},
     "output_type": "execute_result"
    },
    {
     "data": {
      "image/png": "[encoded data removed]",
      "text/plain": [
       "<Figure size 432x288 with 1 Axes>"
      ]
     },
     "metadata": {
      "needs_background": "light"
     },
     "output_type": "display_data"
    }
   ],
   "source": [
    "# We need to scale the data because the below histogram shows some large standard deviations\n",
    "plt.hist(housing.std())"
   ]
  },
  {
   "cell_type": "code",
   "execution_count": 25,
   "metadata": {},
   "outputs": [
    {
     "data": {
      "text/plain": [
       "array([[<matplotlib.axes._subplots.AxesSubplot object at 0x1a26af2d50>]],\n",
       "      dtype=object)"
      ]
     },
     "execution_count": 25,
     "metadata": {},
     "output_type": "execute_result"
    },
    {
     "data": {
      "image/png": "[encoded data removed]",
      "text/plain": [
       "<Figure size 432x288 with 1 Axes>"
      ]
     },
     "metadata": {
      "needs_background": "light"
     },
     "output_type": "display_data"
    },
    {
     "data": {
      "image/png": "[encoded data removed]",
      "text/plain": [
       "<Figure size 432x288 with 1 Axes>"
      ]
     },
     "metadata": {
      "needs_background": "light"
     },
     "output_type": "display_data"
    },
    {
     "data": {
      "image/png": "[encoded data removed]",
      "text/plain": [
       "<Figure size 432x288 with 1 Axes>"
      ]
     },
     "metadata": {
      "needs_background": "light"
     },
     "output_type": "display_data"
    },
    {
     "data": {
      "image/png": "[encoded data removed]",
      "text/plain": [
       "<Figure size 432x288 with 1 Axes>"
      ]
     },
     "metadata": {
      "needs_background": "light"
     },
     "output_type": "display_data"
    },
    {
     "data": {
      "image/png": "[encoded data removed]",
      "text/plain": [
       "<Figure size 432x288 with 1 Axes>"
      ]
     },
     "metadata": {
      "needs_background": "light"
     },
     "output_type": "display_data"
    },
    {
     "data": {
      "image/png": "[encoded data removed]",
      "text/plain": [
       "<Figure size 432x288 with 1 Axes>"
      ]
     },
     "metadata": {
      "needs_background": "light"
     },
     "output_type": "display_data"
    },
    {
     "data": {
      "image/png": "[encoded data removed]",
      "text/plain": [
       "<Figure size 432x288 with 1 Axes>"
      ]
     },
     "metadata": {
      "needs_background": "light"
     },
     "output_type": "display_data"
    },
    {
     "data": {
      "image/png": "[encoded data removed]",
      "text/plain": [
       "<Figure size 432x288 with 1 Axes>"
      ]
     },
     "metadata": {
      "needs_background": "light"
     },
     "output_type": "display_data"
    },
    {
     "data": {
      "image/png": "[encoded data removed]",
      "text/plain": [
       "<Figure size 432x288 with 1 Axes>"
      ]
     },
     "metadata": {
      "needs_background": "light"
     },
     "output_type": "display_data"
    }
   ],
   "source": [
    "# Visualize variables by ploting histograms to see which one is skew.\n",
    "housing.hist(column = 'longitude')\n",
    "housing.hist(column = 'latitude')\n",
    "housing.hist(column = 'housing_median_age')\n",
    "housing.hist(column = 'total_rooms')\n",
    "housing.hist(column = 'total_bedrooms')\n",
    "housing.hist(column = 'population')\n",
    "housing.hist(column = 'households')\n",
    "housing.hist(column = 'median_income')\n",
    "housing.hist(column = 'median_house_value')"
   ]
  },
  {
   "cell_type": "markdown",
   "metadata": {},
   "source": [
    "Total_rooms, total_bedrooms, population, households, median_income are right skewed. They are needed nonlinear transformation by taking log to make them symmetric. Below is the link provide infomation how to do preprocessing data. https://scikit-learn.org/stable/modules/preprocessing.html\n",
    "\n",
    "For future actions, we would check model assumtions again after transforming data. We can aslo do some sensitivity in different notebooks to check the association. "
   ]
  },
  {
   "cell_type": "markdown",
   "metadata": {},
   "source": [
    "### b. Create a new variable called median house category. This variable consists of 0 and 1, where 0 if median house value is less than or equal to it’s median value, and 1 otherwise."
   ]
  },
  {
   "cell_type": "code",
   "execution_count": 17,
   "metadata": {},
   "outputs": [
    {
     "data": {
      "text/html": [
       "<div>\n",
       "<style scoped>\n",
       "    .dataframe tbody tr th:only-of-type {\n",
       "        vertical-align: middle;\n",
       "    }\n",
       "\n",
       "    .dataframe tbody tr th {\n",
       "        vertical-align: top;\n",
       "    }\n",
       "\n",
       "    .dataframe thead th {\n",
       "        text-align: right;\n",
       "    }\n",
       "</style>\n",
       "<table border=\"1\" class=\"dataframe\">\n",
       "  <thead>\n",
       "    <tr style=\"text-align: right;\">\n",
       "      <th></th>\n",
       "      <th>longitude</th>\n",
       "      <th>latitude</th>\n",
       "      <th>housing_median_age</th>\n",
       "      <th>total_rooms</th>\n",
       "      <th>total_bedrooms</th>\n",
       "      <th>population</th>\n",
       "      <th>households</th>\n",
       "      <th>median_income</th>\n",
       "      <th>median_house_value</th>\n",
       "      <th>INLAND</th>\n",
       "      <th>ISLAND</th>\n",
       "      <th>NEAR BAY</th>\n",
       "      <th>NEAR OCEAN</th>\n",
       "      <th>median_house_category</th>\n",
       "    </tr>\n",
       "  </thead>\n",
       "  <tbody>\n",
       "    <tr>\n",
       "      <th>0</th>\n",
       "      <td>-122.23</td>\n",
       "      <td>37.88</td>\n",
       "      <td>41.0</td>\n",
       "      <td>880.0</td>\n",
       "      <td>129.0</td>\n",
       "      <td>322.0</td>\n",
       "      <td>126.0</td>\n",
       "      <td>8.3252</td>\n",
       "      <td>452600.0</td>\n",
       "      <td>0</td>\n",
       "      <td>0</td>\n",
       "      <td>1</td>\n",
       "      <td>0</td>\n",
       "      <td>1</td>\n",
       "    </tr>\n",
       "    <tr>\n",
       "      <th>1</th>\n",
       "      <td>-122.22</td>\n",
       "      <td>37.86</td>\n",
       "      <td>21.0</td>\n",
       "      <td>7099.0</td>\n",
       "      <td>1106.0</td>\n",
       "      <td>2401.0</td>\n",
       "      <td>1138.0</td>\n",
       "      <td>8.3014</td>\n",
       "      <td>358500.0</td>\n",
       "      <td>0</td>\n",
       "      <td>0</td>\n",
       "      <td>1</td>\n",
       "      <td>0</td>\n",
       "      <td>1</td>\n",
       "    </tr>\n",
       "    <tr>\n",
       "      <th>2</th>\n",
       "      <td>-122.24</td>\n",
       "      <td>37.85</td>\n",
       "      <td>52.0</td>\n",
       "      <td>1467.0</td>\n",
       "      <td>190.0</td>\n",
       "      <td>496.0</td>\n",
       "      <td>177.0</td>\n",
       "      <td>7.2574</td>\n",
       "      <td>352100.0</td>\n",
       "      <td>0</td>\n",
       "      <td>0</td>\n",
       "      <td>1</td>\n",
       "      <td>0</td>\n",
       "      <td>1</td>\n",
       "    </tr>\n",
       "    <tr>\n",
       "      <th>3</th>\n",
       "      <td>-122.25</td>\n",
       "      <td>37.85</td>\n",
       "      <td>52.0</td>\n",
       "      <td>1274.0</td>\n",
       "      <td>235.0</td>\n",
       "      <td>558.0</td>\n",
       "      <td>219.0</td>\n",
       "      <td>5.6431</td>\n",
       "      <td>341300.0</td>\n",
       "      <td>0</td>\n",
       "      <td>0</td>\n",
       "      <td>1</td>\n",
       "      <td>0</td>\n",
       "      <td>1</td>\n",
       "    </tr>\n",
       "    <tr>\n",
       "      <th>4</th>\n",
       "      <td>-122.25</td>\n",
       "      <td>37.85</td>\n",
       "      <td>52.0</td>\n",
       "      <td>1627.0</td>\n",
       "      <td>280.0</td>\n",
       "      <td>565.0</td>\n",
       "      <td>259.0</td>\n",
       "      <td>3.8462</td>\n",
       "      <td>342200.0</td>\n",
       "      <td>0</td>\n",
       "      <td>0</td>\n",
       "      <td>1</td>\n",
       "      <td>0</td>\n",
       "      <td>1</td>\n",
       "    </tr>\n",
       "  </tbody>\n",
       "</table>\n",
       "</div>"
      ],
      "text/plain": [
       "   longitude  latitude  housing_median_age  total_rooms  total_bedrooms  \\\n",
       "0    -122.23     37.88                41.0        880.0           129.0   \n",
       "1    -122.22     37.86                21.0       7099.0          1106.0   \n",
       "2    -122.24     37.85                52.0       1467.0           190.0   \n",
       "3    -122.25     37.85                52.0       1274.0           235.0   \n",
       "4    -122.25     37.85                52.0       1627.0           280.0   \n",
       "\n",
       "   population  households  median_income  median_house_value  INLAND  ISLAND  \\\n",
       "0       322.0       126.0         8.3252            452600.0       0       0   \n",
       "1      2401.0      1138.0         8.3014            358500.0       0       0   \n",
       "2       496.0       177.0         7.2574            352100.0       0       0   \n",
       "3       558.0       219.0         5.6431            341300.0       0       0   \n",
       "4       565.0       259.0         3.8462            342200.0       0       0   \n",
       "\n",
       "   NEAR BAY  NEAR OCEAN  median_house_category  \n",
       "0         1           0                      1  \n",
       "1         1           0                      1  \n",
       "2         1           0                      1  \n",
       "3         1           0                      1  \n",
       "4         1           0                      1  "
      ]
     },
     "execution_count": 17,
     "metadata": {},
     "output_type": "execute_result"
    }
   ],
   "source": [
    "# Coppy housing data frame to create new y_cat categorical variable\n",
    "house_logit = housing.copy()\n",
    "#add a dummy variable '0' and '1' called median_house_category\n",
    "house_logit['median_house_category']=np.where(house_logit['median_house_value'] <= (np.median(house_logit['median_house_value'])),0,1) \n",
    "house_logit.head()"
   ]
  },
  {
   "cell_type": "code",
   "execution_count": 18,
   "metadata": {},
   "outputs": [
    {
     "data": {
      "text/plain": [
       "0    10217\n",
       "1    10216\n",
       "Name: median_house_category, dtype: int64"
      ]
     },
     "execution_count": 18,
     "metadata": {},
     "output_type": "execute_result"
    }
   ],
   "source": [
    "# Delete the median_house_value variable \n",
    "del house_logit['median_house_value']\n",
    "# Checking median house category variable\n",
    "house_logit['median_house_category'].value_counts()"
   ]
  },
  {
   "cell_type": "markdown",
   "metadata": {},
   "source": [
    "The output data equally distributes. Classes are balanced."
   ]
  },
  {
   "cell_type": "code",
   "execution_count": 19,
   "metadata": {},
   "outputs": [],
   "source": [
    "# Defining y categorical variable\n",
    "y_cat = house_logit['median_house_category']"
   ]
  },
  {
   "cell_type": "markdown",
   "metadata": {},
   "source": [
    "### c. Build a logistic regression model using all features and all observations. I am going to provide interpretations to the following predictors: longitude, housing median age, and population."
   ]
  },
  {
   "cell_type": "code",
   "execution_count": 20,
   "metadata": {},
   "outputs": [
    {
     "name": "stdout",
     "output_type": "stream",
     "text": [
      "Warning: Maximum number of iterations has been exceeded.\n",
      "         Current function value: 0.362636\n",
      "         Iterations: 35\n"
     ]
    },
    {
     "data": {
      "text/html": [
       "<table class=\"simpletable\">\n",
       "<caption>Logit Regression Results</caption>\n",
       "<tr>\n",
       "  <th>Dep. Variable:</th>   <td>median_house_category</td> <th>  No. Observations:  </th>  <td> 20433</td> \n",
       "</tr>\n",
       "<tr>\n",
       "  <th>Model:</th>                   <td>Logit</td>         <th>  Df Residuals:      </th>  <td> 20420</td> \n",
       "</tr>\n",
       "<tr>\n",
       "  <th>Method:</th>                   <td>MLE</td>          <th>  Df Model:          </th>  <td>    12</td> \n",
       "</tr>\n",
       "<tr>\n",
       "  <th>Date:</th>              <td>Wed, 20 May 2020</td>    <th>  Pseudo R-squ.:     </th>  <td>0.4768</td> \n",
       "</tr>\n",
       "<tr>\n",
       "  <th>Time:</th>                  <td>19:28:52</td>        <th>  Log-Likelihood:    </th> <td> -7409.7</td>\n",
       "</tr>\n",
       "<tr>\n",
       "  <th>converged:</th>               <td>False</td>         <th>  LL-Null:           </th> <td> -14163.</td>\n",
       "</tr>\n",
       "<tr>\n",
       "  <th>Covariance Type:</th>       <td>nonrobust</td>       <th>  LLR p-value:       </th>  <td> 0.000</td> \n",
       "</tr>\n",
       "</table>\n",
       "<table class=\"simpletable\">\n",
       "<tr>\n",
       "           <td></td>             <th>coef</th>     <th>std err</th>      <th>z</th>      <th>P>|z|</th>  <th>[0.025</th>    <th>0.975]</th>  \n",
       "</tr>\n",
       "<tr>\n",
       "  <th>const</th>              <td> -115.0910</td> <td>    4.829</td> <td>  -23.831</td> <td> 0.000</td> <td> -124.556</td> <td> -105.626</td>\n",
       "</tr>\n",
       "<tr>\n",
       "  <th>longitude</th>          <td>   -1.2786</td> <td>    0.057</td> <td>  -22.429</td> <td> 0.000</td> <td>   -1.390</td> <td>   -1.167</td>\n",
       "</tr>\n",
       "<tr>\n",
       "  <th>latitude</th>           <td>   -1.2057</td> <td>    0.058</td> <td>  -20.686</td> <td> 0.000</td> <td>   -1.320</td> <td>   -1.091</td>\n",
       "</tr>\n",
       "<tr>\n",
       "  <th>housing_median_age</th> <td>    0.0245</td> <td>    0.002</td> <td>   12.573</td> <td> 0.000</td> <td>    0.021</td> <td>    0.028</td>\n",
       "</tr>\n",
       "<tr>\n",
       "  <th>total_rooms</th>        <td>   -0.0002</td> <td> 3.77e-05</td> <td>   -5.895</td> <td> 0.000</td> <td>   -0.000</td> <td>   -0.000</td>\n",
       "</tr>\n",
       "<tr>\n",
       "  <th>total_bedrooms</th>     <td>    0.0028</td> <td>    0.000</td> <td>    8.669</td> <td> 0.000</td> <td>    0.002</td> <td>    0.003</td>\n",
       "</tr>\n",
       "<tr>\n",
       "  <th>population</th>         <td>   -0.0014</td> <td> 5.75e-05</td> <td>  -24.146</td> <td> 0.000</td> <td>   -0.002</td> <td>   -0.001</td>\n",
       "</tr>\n",
       "<tr>\n",
       "  <th>households</th>         <td>    0.0027</td> <td>    0.000</td> <td>    7.691</td> <td> 0.000</td> <td>    0.002</td> <td>    0.003</td>\n",
       "</tr>\n",
       "<tr>\n",
       "  <th>median_income</th>      <td>    1.2411</td> <td>    0.024</td> <td>   50.744</td> <td> 0.000</td> <td>    1.193</td> <td>    1.289</td>\n",
       "</tr>\n",
       "<tr>\n",
       "  <th>INLAND</th>             <td>   -1.2714</td> <td>    0.080</td> <td>  -15.887</td> <td> 0.000</td> <td>   -1.428</td> <td>   -1.115</td>\n",
       "</tr>\n",
       "<tr>\n",
       "  <th>ISLAND</th>             <td>   22.7913</td> <td>  6.1e+04</td> <td>    0.000</td> <td> 1.000</td> <td> -1.2e+05</td> <td>  1.2e+05</td>\n",
       "</tr>\n",
       "<tr>\n",
       "  <th>NEAR BAY</th>           <td>   -0.7287</td> <td>    0.080</td> <td>   -9.112</td> <td> 0.000</td> <td>   -0.885</td> <td>   -0.572</td>\n",
       "</tr>\n",
       "<tr>\n",
       "  <th>NEAR OCEAN</th>         <td>   -0.4246</td> <td>    0.065</td> <td>   -6.533</td> <td> 0.000</td> <td>   -0.552</td> <td>   -0.297</td>\n",
       "</tr>\n",
       "</table>"
      ],
      "text/plain": [
       "<class 'statsmodels.iolib.summary.Summary'>\n",
       "\"\"\"\n",
       "                             Logit Regression Results                            \n",
       "=================================================================================\n",
       "Dep. Variable:     median_house_category   No. Observations:                20433\n",
       "Model:                             Logit   Df Residuals:                    20420\n",
       "Method:                              MLE   Df Model:                           12\n",
       "Date:                   Wed, 20 May 2020   Pseudo R-squ.:                  0.4768\n",
       "Time:                           19:28:52   Log-Likelihood:                -7409.7\n",
       "converged:                         False   LL-Null:                       -14163.\n",
       "Covariance Type:               nonrobust   LLR p-value:                     0.000\n",
       "======================================================================================\n",
       "                         coef    std err          z      P>|z|      [0.025      0.975]\n",
       "--------------------------------------------------------------------------------------\n",
       "const               -115.0910      4.829    -23.831      0.000    -124.556    -105.626\n",
       "longitude             -1.2786      0.057    -22.429      0.000      -1.390      -1.167\n",
       "latitude              -1.2057      0.058    -20.686      0.000      -1.320      -1.091\n",
       "housing_median_age     0.0245      0.002     12.573      0.000       0.021       0.028\n",
       "total_rooms           -0.0002   3.77e-05     -5.895      0.000      -0.000      -0.000\n",
       "total_bedrooms         0.0028      0.000      8.669      0.000       0.002       0.003\n",
       "population            -0.0014   5.75e-05    -24.146      0.000      -0.002      -0.001\n",
       "households             0.0027      0.000      7.691      0.000       0.002       0.003\n",
       "median_income          1.2411      0.024     50.744      0.000       1.193       1.289\n",
       "INLAND                -1.2714      0.080    -15.887      0.000      -1.428      -1.115\n",
       "ISLAND                22.7913    6.1e+04      0.000      1.000    -1.2e+05     1.2e+05\n",
       "NEAR BAY              -0.7287      0.080     -9.112      0.000      -0.885      -0.572\n",
       "NEAR OCEAN            -0.4246      0.065     -6.533      0.000      -0.552      -0.297\n",
       "======================================================================================\n",
       "\"\"\""
      ]
     },
     "execution_count": 20,
     "metadata": {},
     "output_type": "execute_result"
    }
   ],
   "source": [
    "# Fit a logistic regression model\n",
    "X_int = sm.add_constant(X)\n",
    "LogisticReg = sm.Logit(y_cat,X_int).fit() # fit the logistic regression \n",
    "\n",
    "# Model summary\n",
    "LogisticReg.summary()"
   ]
  },
  {
   "cell_type": "code",
   "execution_count": 21,
   "metadata": {},
   "outputs": [
    {
     "name": "stdout",
     "output_type": "stream",
     "text": [
      "The longitute coefficient: 0.2784268252775833\n",
      "The housing_median_age coefficient: 1.0248025911071987\n",
      "The population coefficient: 0.9986009795428267\n"
     ]
    }
   ],
   "source": [
    "# Exponential of coeficients \n",
    "print('The longitute coefficient:', np.exp(-1.2786))\n",
    "print('The housing_median_age coefficient:', np.exp(0.0245))\n",
    "print('The population coefficient:', np.exp(-0.0014))"
   ]
  },
  {
   "cell_type": "markdown",
   "metadata": {},
   "source": [
    "#### Interpretations to the following predictors: longitude, housing median age, and population"
   ]
  },
  {
   "cell_type": "markdown",
   "metadata": {},
   "source": [
    "1. The longitute coefficient is -1.2786 and exp(-1.2786) is 0.2784. For every increase in degree of longitute (closer to the coast) in California, the odds of median house value above its median decrease by 72.16%.\n",
    "2. The housing_median_age coefficient is 0.0245 and exp(0.0245) is 1.0248. For every increase in housing median age in California, the odds of median house value above its median increase by 2.48%.\n",
    "1. The population coefficient is -0.0014 and exp(-0.0014) is 0.9986. For every increase in population in California, the odds of median house value above its median decrease by 0.14%."
   ]
  },
  {
   "cell_type": "markdown",
   "metadata": {},
   "source": [
    "## 3. Predictions"
   ]
  },
  {
   "cell_type": "markdown",
   "metadata": {},
   "source": [
    "### a. Split data into training and holdout set. Use a split of 80-20 ratio. "
   ]
  },
  {
   "cell_type": "markdown",
   "metadata": {},
   "source": [
    "### Train / validation / test split\n",
    "I am going to find the best hyperparameter of alpha, max_iter and tol by the following steps:\n",
    "- Set up range of hyperparameters\n",
    "- Loop them in a Lasso function\n",
    "- Fit the function in the train set\n",
    "- Find the minimum of MSE on valid set to pick the best set of hyper-parameter\n",
    "- Use the best one fit on holdout set to get final MSE for this method"
   ]
  },
  {
   "cell_type": "code",
   "execution_count": 22,
   "metadata": {},
   "outputs": [],
   "source": [
    "# importing necessary libraries\n",
    "from sklearn.model_selection import train_test_split\n",
    "from sklearn.metrics import mean_squared_error\n",
    "import itertools # For creating iterators for efficient looping\n",
    "\n",
    "# Train valid and holdout set splits using 20% of the data set as a holdout set\n",
    "X_train_valid, X_holdout, y_train_valid, y_holdout = train_test_split(X, y, test_size = 0.2, random_state = 451)\n",
    "# Train valid sets splits using 25% of the training set as validation set\n",
    "X_train, X_valid, y_train, y_valid = train_test_split(X_train_valid, y_train_valid, test_size = 0.25, random_state = 451)\n",
    "\n",
    "# Creating a range of elements of the hyperparameters\n",
    "alphas = np.linspace(0.0001,5,10) # power of penalty on coefficients\n",
    "max_iter = np.linspace(50,500,10) # number of iterations\n",
    "tol = np.linspace(0.0001,0.1,10) # tol: tolerance for the stopping criteria once some tolerance is achieved or close\n",
    "# cartesian product\n",
    "hyperparameters = list(itertools.product(alphas,max_iter,tol)) "
   ]
  },
  {
   "cell_type": "markdown",
   "metadata": {},
   "source": [
    "### b. Build a Lasso regression model and Random Forest Regression model using the training set to predict the house median value variable. Perform prediction on the testing set. Report the MSE.\n",
    "\n",
    "### • I am going to tune at least 2 hyperparameters for each model and using the train/validation/test split method."
   ]
  },
  {
   "cell_type": "code",
   "execution_count": 23,
   "metadata": {},
   "outputs": [],
   "source": [
    "# Lasso Model \n",
    "from sklearn.linear_model import Lasso\n",
    "from sklearn.preprocessing import StandardScaler\n",
    "\n",
    "# Scaling X data\n",
    "scaler = StandardScaler().fit(X_train)\n",
    "X_train_transformed = scaler.transform(X_train)\n",
    "X_valid_transformed = scaler.transform(X_valid)\n",
    "\n",
    "Validation_mse = [] # create 'basket' for validation MSE\n",
    "# Looping over each tuple of hyperparameters\n",
    "for index, tupl in enumerate(hyperparameters):\n",
    "    Lass_model = Lasso(alpha = tupl[0], max_iter = tupl[1], tol = tupl[2])\n",
    "    Lass_model.fit(X_train_transformed, y_train) # fit Lasso model \n",
    "    prediction = Lass_model.predict(X_valid_transformed) # call predict function\n",
    "    Validation_mse.append(mean_squared_error(prediction, y_valid)) # validate mse on a valid set"
   ]
  },
  {
   "cell_type": "code",
   "execution_count": 24,
   "metadata": {},
   "outputs": [
    {
     "name": "stdout",
     "output_type": "stream",
     "text": [
      "(0.0001, 100.0, 0.0001)\n"
     ]
    }
   ],
   "source": [
    "# Printing the best hyperparameters\n",
    "best_set = hyperparameters[np.argmin(Validation_mse)]\n",
    "print(best_set)"
   ]
  },
  {
   "cell_type": "markdown",
   "metadata": {},
   "source": [
    "Next, use the train_valid set, scale it, refit the model using the best set of hyperparameters from above and perform prediction on the holdout set. "
   ]
  },
  {
   "cell_type": "code",
   "execution_count": 25,
   "metadata": {},
   "outputs": [
    {
     "name": "stdout",
     "output_type": "stream",
     "text": [
      "4821380589.854102\n"
     ]
    }
   ],
   "source": [
    "# Perform scaling on the train_valid and holdout set\n",
    "scaler = StandardScaler().fit(X_train_valid)\n",
    "X_train_valid_transformed = scaler.transform(X_train_valid)\n",
    "X_holdout_transformed = scaler.transform(X_holdout)\n",
    "\n",
    "# Fitting Lasso model with the best set of hyperparameters on the train_valid test\n",
    "Lass_model1 = Lasso(alpha = best_set[0], max_iter=best_set[1], tol=best_set[2])# Define the regression model\n",
    "Lass_model1.fit(X_train_valid_transformed, y_train_valid) # fit Lasso model on transformed train valid set\n",
    "\n",
    "predictions = Lass_model1.predict(X_holdout_transformed) # call prediction\n",
    "Evaluation_Lass = mean_squared_error(predictions, y_holdout) # validate mse on a holdout set\n",
    "\n",
    "print(Evaluation_Lass) # print MSE of Lasso model"
   ]
  },
  {
   "cell_type": "code",
   "execution_count": 26,
   "metadata": {},
   "outputs": [],
   "source": [
    "# Random Forest Regression Model \n",
    "from sklearn.ensemble import RandomForestRegressor # because the output is numberical data type\n",
    "\n",
    "# Creating a range of elements of the hyperparameter\n",
    "n_estimators = range(1,15) #Number of trees in this forest\n",
    "min_samples_leaf = range (3,7) #Minimum number of observations at each terminal node\n",
    "\n",
    "# cartesian product\n",
    "hyperparameters_rf = list(itertools.product(n_estimators,min_samples_leaf))\n",
    "\n",
    "Validation_mse_rf = [] # create 'basket' for validation MSE\n",
    "# Looping over each tuple of hyperparameters\n",
    "for ind, tup in enumerate(hyperparameters_rf):\n",
    "    RF_model = RandomForestRegressor(n_estimators = tup[0], min_samples_leaf = tup[1]) # define Random Forest model\n",
    "    RF_model.fit(X_train, y_train) # fit model on train set\n",
    "    prediction = RF_model.predict(X_valid) # call prediction function\n",
    "    Validation_mse_rf.append(mean_squared_error(prediction, y_valid)) # appending mse in the above 'basket'"
   ]
  },
  {
   "cell_type": "code",
   "execution_count": 27,
   "metadata": {},
   "outputs": [
    {
     "name": "stdout",
     "output_type": "stream",
     "text": [
      "(13, 4)\n"
     ]
    }
   ],
   "source": [
    "# Printing the best hyperparameters\n",
    "best_set_rf = hyperparameters_rf[np.argmin(Validation_mse_rf)]\n",
    "print(best_set_rf)"
   ]
  },
  {
   "cell_type": "code",
   "execution_count": 28,
   "metadata": {},
   "outputs": [
    {
     "name": "stdout",
     "output_type": "stream",
     "text": [
      "2637656828.4857025\n"
     ]
    }
   ],
   "source": [
    "# Fitting random forest model with the best set of hyperparameters on the train_valid test\n",
    "RF_model1 = RandomForestRegressor(n_estimators = tup[0], min_samples_leaf = tup[1])# Define the random forest regression model\n",
    "RF_model1.fit(X_train_valid, y_train_valid) # fit model on train valid set\n",
    "\n",
    "predictions_rf = RF_model1.predict(X_holdout) # predict on holdout set\n",
    "Evaluation_RF = mean_squared_error(predictions_rf, y_holdout)\n",
    "print(Evaluation_RF) # print MSE of Random Forest model"
   ]
  },
  {
   "cell_type": "markdown",
   "metadata": {},
   "source": [
    "### c. Compare the predictors selected by the two final models. Briefly describe the observations."
   ]
  },
  {
   "cell_type": "code",
   "execution_count": 29,
   "metadata": {},
   "outputs": [
    {
     "data": {
      "text/html": [
       "<div>\n",
       "<style scoped>\n",
       "    .dataframe tbody tr th:only-of-type {\n",
       "        vertical-align: middle;\n",
       "    }\n",
       "\n",
       "    .dataframe tbody tr th {\n",
       "        vertical-align: top;\n",
       "    }\n",
       "\n",
       "    .dataframe thead th {\n",
       "        text-align: right;\n",
       "    }\n",
       "</style>\n",
       "<table border=\"1\" class=\"dataframe\">\n",
       "  <thead>\n",
       "    <tr style=\"text-align: right;\">\n",
       "      <th></th>\n",
       "      <th>features</th>\n",
       "      <th>importance_Lasso</th>\n",
       "      <th>importance_RandomForest</th>\n",
       "    </tr>\n",
       "  </thead>\n",
       "  <tbody>\n",
       "    <tr>\n",
       "      <th>7</th>\n",
       "      <td>median_income</td>\n",
       "      <td>74729.746741</td>\n",
       "      <td>0.522867</td>\n",
       "    </tr>\n",
       "    <tr>\n",
       "      <th>1</th>\n",
       "      <td>latitude</td>\n",
       "      <td>55237.313352</td>\n",
       "      <td>0.098166</td>\n",
       "    </tr>\n",
       "    <tr>\n",
       "      <th>0</th>\n",
       "      <td>longitude</td>\n",
       "      <td>54725.501647</td>\n",
       "      <td>0.103648</td>\n",
       "    </tr>\n",
       "    <tr>\n",
       "      <th>4</th>\n",
       "      <td>total_bedrooms</td>\n",
       "      <td>43281.563406</td>\n",
       "      <td>0.013214</td>\n",
       "    </tr>\n",
       "    <tr>\n",
       "      <th>5</th>\n",
       "      <td>population</td>\n",
       "      <td>40958.794815</td>\n",
       "      <td>0.021447</td>\n",
       "    </tr>\n",
       "    <tr>\n",
       "      <th>8</th>\n",
       "      <td>INLAND</td>\n",
       "      <td>18134.796945</td>\n",
       "      <td>0.158309</td>\n",
       "    </tr>\n",
       "    <tr>\n",
       "      <th>6</th>\n",
       "      <td>households</td>\n",
       "      <td>16581.179881</td>\n",
       "      <td>0.011347</td>\n",
       "    </tr>\n",
       "    <tr>\n",
       "      <th>3</th>\n",
       "      <td>total_rooms</td>\n",
       "      <td>13764.560206</td>\n",
       "      <td>0.014546</td>\n",
       "    </tr>\n",
       "    <tr>\n",
       "      <th>2</th>\n",
       "      <td>housing_median_age</td>\n",
       "      <td>13529.674173</td>\n",
       "      <td>0.046122</td>\n",
       "    </tr>\n",
       "    <tr>\n",
       "      <th>9</th>\n",
       "      <td>ISLAND</td>\n",
       "      <td>2678.282692</td>\n",
       "      <td>0.000000</td>\n",
       "    </tr>\n",
       "    <tr>\n",
       "      <th>11</th>\n",
       "      <td>NEAR OCEAN</td>\n",
       "      <td>1658.073211</td>\n",
       "      <td>0.009949</td>\n",
       "    </tr>\n",
       "    <tr>\n",
       "      <th>10</th>\n",
       "      <td>NEAR BAY</td>\n",
       "      <td>1402.686928</td>\n",
       "      <td>0.000385</td>\n",
       "    </tr>\n",
       "  </tbody>\n",
       "</table>\n",
       "</div>"
      ],
      "text/plain": [
       "              features  importance_Lasso  importance_RandomForest\n",
       "7        median_income      74729.746741                 0.522867\n",
       "1             latitude      55237.313352                 0.098166\n",
       "0            longitude      54725.501647                 0.103648\n",
       "4       total_bedrooms      43281.563406                 0.013214\n",
       "5           population      40958.794815                 0.021447\n",
       "8               INLAND      18134.796945                 0.158309\n",
       "6           households      16581.179881                 0.011347\n",
       "3          total_rooms      13764.560206                 0.014546\n",
       "2   housing_median_age      13529.674173                 0.046122\n",
       "9               ISLAND       2678.282692                 0.000000\n",
       "11          NEAR OCEAN       1658.073211                 0.009949\n",
       "10            NEAR BAY       1402.686928                 0.000385"
      ]
     },
     "execution_count": 29,
     "metadata": {},
     "output_type": "execute_result"
    }
   ],
   "source": [
    "# Report the important features from both models\n",
    "importance = pd.DataFrame({'features':X.columns.values, 'importance_Lasso':np.absolute(Lass_model1.coef_), \n",
    "             'importance_RandomForest': RF_model1.feature_importances_})\n",
    "importance.sort_values(by = ['importance_Lasso'], ascending = False)"
   ]
  },
  {
   "cell_type": "markdown",
   "metadata": {},
   "source": [
    "Median_income and latitude are the most importance variables in both models. With the goal of predictions, the Random Forest model is much more favorable to use because of its low MSE compared to the Lasso model."
   ]
  },
  {
   "cell_type": "markdown",
   "metadata": {},
   "source": [
    "### d. Build a KNN classifier, decision tree, and boosted tree, to predict the house median category variable. Perform prediction on the testing set. Report the precision score.\n",
    "### • I am going to tune at least 2 hyperparameters for each model and using cross validation. • Using the precision score to evaluate model."
   ]
  },
  {
   "cell_type": "code",
   "execution_count": 30,
   "metadata": {},
   "outputs": [],
   "source": [
    "# output is categorical data type, so import necessary classifier libraties \n",
    "from sklearn.model_selection import GridSearchCV\n",
    "from sklearn.pipeline import Pipeline\n",
    "from sklearn.metrics import precision_score # Evaluation on precision score\n",
    "from sklearn.neighbors import KNeighborsClassifier\n",
    "from sklearn.tree import DecisionTreeClassifier\n",
    "from sklearn.ensemble import GradientBoostingClassifier"
   ]
  },
  {
   "cell_type": "code",
   "execution_count": 31,
   "metadata": {},
   "outputs": [],
   "source": [
    "# Train valid and holdout set splits using 20% of the data set as a holdout set for the house median category variable\n",
    "X_train_valid_cat, X_holdout_cat, y_train_valid_cat, y_holdout_cat = train_test_split(X, y_cat, test_size = 0.2, random_state = 451)\n",
    "# Train valid sets splits using 25% of the training set as validation set for the house median category variable\n",
    "X_train_cat, X_valid_cat, y_train_cat, y_valid_cat = train_test_split(X_train_valid_cat, y_train_valid_cat, test_size = 0.25, random_state = 451)"
   ]
  },
  {
   "cell_type": "markdown",
   "metadata": {},
   "source": [
    "### KNN Classifier"
   ]
  },
  {
   "cell_type": "markdown",
   "metadata": {},
   "source": [
    "We will use 5 fold cross validation for all KNN classifier, Decision Tree and Boosted Trees."
   ]
  },
  {
   "cell_type": "code",
   "execution_count": 32,
   "metadata": {},
   "outputs": [
    {
     "name": "stdout",
     "output_type": "stream",
     "text": [
      "{'knn__n_neighbors': 6, 'knn__p': 1}\n"
     ]
    }
   ],
   "source": [
    "# Seting up pipeline\n",
    "estimator = Pipeline(steps = [('scale', StandardScaler()), # Scale data\n",
    "                     ('knn', KNeighborsClassifier()) ])\n",
    "# Seting up parameter\n",
    "parameters = {'knn__n_neighbors': range(5,20),\n",
    "             'knn__p': [1,2]} # consider only manhattan_distance (l1) or euclidean_distance (l2)\n",
    "# Set up the cross validation\n",
    "knn1 = GridSearchCV(estimator = estimator, param_grid = parameters, cv = 5, \n",
    "                   scoring = 'precision', n_jobs = -1)\n",
    "knn1.fit(X_train_valid_cat, y_train_valid_cat)\n",
    "print(knn1.best_params_)"
   ]
  },
  {
   "cell_type": "code",
   "execution_count": 33,
   "metadata": {},
   "outputs": [
    {
     "data": {
      "text/plain": [
       "KNeighborsClassifier(algorithm='auto', leaf_size=30, metric='minkowski',\n",
       "                     metric_params=None, n_jobs=None, n_neighbors=6, p=1,\n",
       "                     weights='uniform')"
      ]
     },
     "execution_count": 33,
     "metadata": {},
     "output_type": "execute_result"
    }
   ],
   "source": [
    "# Scaling data\n",
    "scaler = StandardScaler().fit(X_train_valid_cat)\n",
    "X_train_valid_cat = scaler.transform(X_train_valid_cat)\n",
    "X_holdout_cat = scaler.transform(X_holdout_cat)\n",
    "\n",
    "# Fiting KNN with the best parameter\n",
    "knn2 = KNeighborsClassifier(n_neighbors = knn1.best_params_['knn__n_neighbors'], p = knn1.best_params_['knn__p'])\n",
    "knn2.fit(X_train_valid_cat, y_train_valid_cat)"
   ]
  },
  {
   "cell_type": "code",
   "execution_count": 34,
   "metadata": {},
   "outputs": [
    {
     "name": "stdout",
     "output_type": "stream",
     "text": [
      "Precision of KNN: 0.8087512291052114\n"
     ]
    }
   ],
   "source": [
    "# Perform evaluation on the holdout set. Report the final precision score.\n",
    "precision_knn = precision_score(knn2.predict(X_holdout_cat), y_holdout_cat)\n",
    "print('Precision of KNN:', precision_knn)"
   ]
  },
  {
   "cell_type": "markdown",
   "metadata": {},
   "source": [
    "### Decision Tree"
   ]
  },
  {
   "cell_type": "code",
   "execution_count": 35,
   "metadata": {},
   "outputs": [
    {
     "name": "stdout",
     "output_type": "stream",
     "text": [
      "{'ccp_alpha': 0.005, 'max_depth': 2, 'max_leaf_nodes': 10}\n"
     ]
    }
   ],
   "source": [
    "# Tuning tree \n",
    "# Set up parameters\n",
    "parameters_DeTree = {'max_depth':np.arange(2, 5), \n",
    "                     'max_leaf_nodes': np.arange(10, 50),\n",
    "                     'ccp_alpha': np.linspace(0.005,0.5,20)}\n",
    "# Set up the cross validation\n",
    "DeTree1 = GridSearchCV(DecisionTreeClassifier(random_state = 451),parameters_DeTree, scoring ='precision',\n",
    "                          cv = 5, n_jobs = -1)\n",
    "DeTree1.fit(X_train_valid_cat, y_train_valid_cat)\n",
    "print(DeTree1.best_params_)"
   ]
  },
  {
   "cell_type": "code",
   "execution_count": 36,
   "metadata": {},
   "outputs": [
    {
     "data": {
      "text/plain": [
       "DecisionTreeClassifier(ccp_alpha=0.005, class_weight=None, criterion='gini',\n",
       "                       max_depth=2, max_features=None, max_leaf_nodes=10,\n",
       "                       min_impurity_decrease=0.0, min_impurity_split=None,\n",
       "                       min_samples_leaf=1, min_samples_split=2,\n",
       "                       min_weight_fraction_leaf=0.0, presort='deprecated',\n",
       "                       random_state=451, splitter='best')"
      ]
     },
     "execution_count": 36,
     "metadata": {},
     "output_type": "execute_result"
    }
   ],
   "source": [
    "# Fiting Decision with the best parameter\n",
    "DeTree2 = DecisionTreeClassifier(max_depth = DeTree1.best_params_['max_depth'], max_leaf_nodes = DeTree1.best_params_['max_leaf_nodes'],\n",
    "                                 ccp_alpha = DeTree1.best_params_['ccp_alpha'],random_state = 451)\n",
    "DeTree2.fit(X_train_valid_cat, y_train_valid_cat)"
   ]
  },
  {
   "cell_type": "code",
   "execution_count": 37,
   "metadata": {},
   "outputs": [
    {
     "name": "stdout",
     "output_type": "stream",
     "text": [
      "Precision of Decision Tree: 0.5476892822025565\n"
     ]
    }
   ],
   "source": [
    "# Perform evaluation on the holdout set. Report the final precision score.\n",
    "precision_DeTree = precision_score(DeTree2.predict(X_holdout_cat), y_holdout_cat)\n",
    "print('Precision of Decision Tree:', precision_DeTree)"
   ]
  },
  {
   "cell_type": "markdown",
   "metadata": {},
   "source": [
    "### Boosted Trees"
   ]
  },
  {
   "cell_type": "code",
   "execution_count": 38,
   "metadata": {},
   "outputs": [
    {
     "name": "stdout",
     "output_type": "stream",
     "text": [
      "{'learning_rate': 0.1, 'n_estimators': 600}\n"
     ]
    }
   ],
   "source": [
    "# Tuning Booted Trees\n",
    "# Set up parameters\n",
    "parameters_BootedTree = {'n_estimators': np.linspace(100, 600, 10, dtype = int), # number of trees\n",
    "                         'learning_rate': np.linspace(0.01,0.1,10)} # setting how fast learning rate is.\n",
    "# Set up the cross validation\n",
    "BootedTree1 = GridSearchCV(GradientBoostingClassifier(max_depth = 2, max_leaf_nodes = 10, random_state = 451),\n",
    "                    param_grid = parameters_BootedTree, cv = 5, n_jobs = -1, scoring = 'precision')\n",
    "BootedTree1.fit(X_train_cat, y_train_cat)\n",
    "print(BootedTree1.best_params_)"
   ]
  },
  {
   "cell_type": "code",
   "execution_count": 39,
   "metadata": {},
   "outputs": [
    {
     "data": {
      "text/plain": [
       "GradientBoostingClassifier(ccp_alpha=0.0, criterion='friedman_mse', init=None,\n",
       "                           learning_rate=0.1, loss='deviance', max_depth=2,\n",
       "                           max_features=None, max_leaf_nodes=7,\n",
       "                           min_impurity_decrease=0.0, min_impurity_split=None,\n",
       "                           min_samples_leaf=1, min_samples_split=2,\n",
       "                           min_weight_fraction_leaf=0.0, n_estimators=600,\n",
       "                           n_iter_no_change=None, presort='deprecated',\n",
       "                           random_state=451, subsample=1.0, tol=0.0001,\n",
       "                           validation_fraction=0.1, verbose=0,\n",
       "                           warm_start=False)"
      ]
     },
     "execution_count": 39,
     "metadata": {},
     "output_type": "execute_result"
    }
   ],
   "source": [
    "# Fiting a Boosted Tree with the best parameter\n",
    "BoostedTree2 = GradientBoostingClassifier(max_depth = 2, max_leaf_nodes = 7, random_state = 451,\n",
    "                                          learning_rate = BootedTree1.best_params_['learning_rate'], \n",
    "                                          n_estimators = BootedTree1.best_params_['n_estimators'])\n",
    "BoostedTree2.fit(X_train_valid_cat, y_train_valid_cat)"
   ]
  },
  {
   "cell_type": "code",
   "execution_count": 40,
   "metadata": {},
   "outputs": [
    {
     "name": "stdout",
     "output_type": "stream",
     "text": [
      "Precision of Boosted Trees: 0.880039331366765\n"
     ]
    }
   ],
   "source": [
    "# Perform evaluation on the holdout set. Report the final precision score.\n",
    "precision_BoostedTree = precision_score(BoostedTree2.predict(X_holdout_cat), y_holdout_cat)\n",
    "print('Precision of Boosted Trees:', precision_BoostedTree)"
   ]
  },
  {
   "cell_type": "markdown",
   "metadata": {},
   "source": [
    "Higher percision score indicates better the model makes a positive prediction. The Boosted Trees model has the highest precision score, KNN classifier and Decision Tree. KNN model takes esimatively shorter time to finish, but it performance is not bad with only about 7% in score difference.\n",
    "\n",
    "There is no surprise that Decision Tree does not perform well. One thing to notice, the ccp_alpha parameter plays ipportant rules in applying decision tree and boosted trees model. My tries on this notebook show higher ccp_alpha, the tree structure becomes simpler and precision score decrease. \n",
    "\n",
    "Predicting correctly above median of median values of houses could benifit sellers and real estate agents. It is depends on applications to make decision about which hyperparameters to tune.\n",
    "\n",
    "Note: Boosted trees model can not have a single tree. The reason is the model trains on weak decision tree sequentily at each iteration and finalize with an ensemble of trees to make decisions. "
   ]
  },
  {
   "cell_type": "markdown",
   "metadata": {},
   "source": [
    "## 4. PCA"
   ]
  },
  {
   "cell_type": "markdown",
   "metadata": {},
   "source": [
    "### a. Reload the original data set, drop the missing obsevations and convert the categorical variable(s) into dummy variables (do not drop anything)."
   ]
  },
  {
   "cell_type": "code",
   "execution_count": 41,
   "metadata": {},
   "outputs": [
    {
     "data": {
      "text/plain": [
       "(20433, 10)"
      ]
     },
     "execution_count": 41,
     "metadata": {},
     "output_type": "execute_result"
    }
   ],
   "source": [
    "# For PCA, we care about X, not y.\n",
    "# Reload original data set\n",
    "House = pd.read_csv('housingfinal.csv')\n",
    "\n",
    "# Drop the missing values\n",
    "House = House.dropna()\n",
    "House.shape"
   ]
  },
  {
   "cell_type": "code",
   "execution_count": 42,
   "metadata": {},
   "outputs": [],
   "source": [
    "# Define the predictors and response\n",
    "X_PCA = House.drop('median_house_value', axis =1)\n",
    "y_PCA = House.median_house_value"
   ]
  },
  {
   "cell_type": "code",
   "execution_count": 43,
   "metadata": {},
   "outputs": [
    {
     "data": {
      "text/html": [
       "<div>\n",
       "<style scoped>\n",
       "    .dataframe tbody tr th:only-of-type {\n",
       "        vertical-align: middle;\n",
       "    }\n",
       "\n",
       "    .dataframe tbody tr th {\n",
       "        vertical-align: top;\n",
       "    }\n",
       "\n",
       "    .dataframe thead th {\n",
       "        text-align: right;\n",
       "    }\n",
       "</style>\n",
       "<table border=\"1\" class=\"dataframe\">\n",
       "  <thead>\n",
       "    <tr style=\"text-align: right;\">\n",
       "      <th></th>\n",
       "      <th>longitude</th>\n",
       "      <th>latitude</th>\n",
       "      <th>housing_median_age</th>\n",
       "      <th>total_rooms</th>\n",
       "      <th>total_bedrooms</th>\n",
       "      <th>population</th>\n",
       "      <th>households</th>\n",
       "      <th>median_income</th>\n",
       "      <th>ocean_proximity_&lt;1H OCEAN</th>\n",
       "      <th>ocean_proximity_INLAND</th>\n",
       "      <th>ocean_proximity_ISLAND</th>\n",
       "      <th>ocean_proximity_NEAR BAY</th>\n",
       "      <th>ocean_proximity_NEAR OCEAN</th>\n",
       "    </tr>\n",
       "  </thead>\n",
       "  <tbody>\n",
       "    <tr>\n",
       "      <th>0</th>\n",
       "      <td>-122.23</td>\n",
       "      <td>37.88</td>\n",
       "      <td>41.0</td>\n",
       "      <td>880.0</td>\n",
       "      <td>129.0</td>\n",
       "      <td>322.0</td>\n",
       "      <td>126.0</td>\n",
       "      <td>8.3252</td>\n",
       "      <td>0</td>\n",
       "      <td>0</td>\n",
       "      <td>0</td>\n",
       "      <td>1</td>\n",
       "      <td>0</td>\n",
       "    </tr>\n",
       "    <tr>\n",
       "      <th>1</th>\n",
       "      <td>-122.22</td>\n",
       "      <td>37.86</td>\n",
       "      <td>21.0</td>\n",
       "      <td>7099.0</td>\n",
       "      <td>1106.0</td>\n",
       "      <td>2401.0</td>\n",
       "      <td>1138.0</td>\n",
       "      <td>8.3014</td>\n",
       "      <td>0</td>\n",
       "      <td>0</td>\n",
       "      <td>0</td>\n",
       "      <td>1</td>\n",
       "      <td>0</td>\n",
       "    </tr>\n",
       "    <tr>\n",
       "      <th>2</th>\n",
       "      <td>-122.24</td>\n",
       "      <td>37.85</td>\n",
       "      <td>52.0</td>\n",
       "      <td>1467.0</td>\n",
       "      <td>190.0</td>\n",
       "      <td>496.0</td>\n",
       "      <td>177.0</td>\n",
       "      <td>7.2574</td>\n",
       "      <td>0</td>\n",
       "      <td>0</td>\n",
       "      <td>0</td>\n",
       "      <td>1</td>\n",
       "      <td>0</td>\n",
       "    </tr>\n",
       "    <tr>\n",
       "      <th>3</th>\n",
       "      <td>-122.25</td>\n",
       "      <td>37.85</td>\n",
       "      <td>52.0</td>\n",
       "      <td>1274.0</td>\n",
       "      <td>235.0</td>\n",
       "      <td>558.0</td>\n",
       "      <td>219.0</td>\n",
       "      <td>5.6431</td>\n",
       "      <td>0</td>\n",
       "      <td>0</td>\n",
       "      <td>0</td>\n",
       "      <td>1</td>\n",
       "      <td>0</td>\n",
       "    </tr>\n",
       "    <tr>\n",
       "      <th>4</th>\n",
       "      <td>-122.25</td>\n",
       "      <td>37.85</td>\n",
       "      <td>52.0</td>\n",
       "      <td>1627.0</td>\n",
       "      <td>280.0</td>\n",
       "      <td>565.0</td>\n",
       "      <td>259.0</td>\n",
       "      <td>3.8462</td>\n",
       "      <td>0</td>\n",
       "      <td>0</td>\n",
       "      <td>0</td>\n",
       "      <td>1</td>\n",
       "      <td>0</td>\n",
       "    </tr>\n",
       "  </tbody>\n",
       "</table>\n",
       "</div>"
      ],
      "text/plain": [
       "   longitude  latitude  housing_median_age  total_rooms  total_bedrooms  \\\n",
       "0    -122.23     37.88                41.0        880.0           129.0   \n",
       "1    -122.22     37.86                21.0       7099.0          1106.0   \n",
       "2    -122.24     37.85                52.0       1467.0           190.0   \n",
       "3    -122.25     37.85                52.0       1274.0           235.0   \n",
       "4    -122.25     37.85                52.0       1627.0           280.0   \n",
       "\n",
       "   population  households  median_income  ocean_proximity_<1H OCEAN  \\\n",
       "0       322.0       126.0         8.3252                          0   \n",
       "1      2401.0      1138.0         8.3014                          0   \n",
       "2       496.0       177.0         7.2574                          0   \n",
       "3       558.0       219.0         5.6431                          0   \n",
       "4       565.0       259.0         3.8462                          0   \n",
       "\n",
       "   ocean_proximity_INLAND  ocean_proximity_ISLAND  ocean_proximity_NEAR BAY  \\\n",
       "0                       0                       0                         1   \n",
       "1                       0                       0                         1   \n",
       "2                       0                       0                         1   \n",
       "3                       0                       0                         1   \n",
       "4                       0                       0                         1   \n",
       "\n",
       "   ocean_proximity_NEAR OCEAN  \n",
       "0                           0  \n",
       "1                           0  \n",
       "2                           0  \n",
       "3                           0  \n",
       "4                           0  "
      ]
     },
     "execution_count": 43,
     "metadata": {},
     "output_type": "execute_result"
    }
   ],
   "source": [
    "# convert the categorical variable(s) into dummy variables without dropping anything\n",
    "X_PCA = pd.get_dummies(X_PCA)\n",
    "X_PCA.head()"
   ]
  },
  {
   "cell_type": "markdown",
   "metadata": {},
   "source": [
    "### b. Perform PCA and plot the scree plot."
   ]
  },
  {
   "cell_type": "code",
   "execution_count": 44,
   "metadata": {},
   "outputs": [
    {
     "data": {
      "text/plain": [
       "(array([9., 2., 0., 0., 0., 1., 0., 0., 0., 1.]),\n",
       " array([1.56414287e-02, 2.18541034e+02, 4.37066427e+02, 6.55591819e+02,\n",
       "        8.74117212e+02, 1.09264260e+03, 1.31116800e+03, 1.52969339e+03,\n",
       "        1.74821878e+03, 1.96674417e+03, 2.18526957e+03]),\n",
       " <a list of 10 Patch objects>)"
      ]
     },
     "execution_count": 44,
     "metadata": {},
     "output_type": "execute_result"
    },
    {
     "data": {
      "image/png": "[encoded data removed]",
      "text/plain": [
       "<Figure size 432x288 with 1 Axes>"
      ]
     },
     "metadata": {
      "needs_background": "light"
     },
     "output_type": "display_data"
    }
   ],
   "source": [
    "# Ploting standard deviation\n",
    "plt.hist(X_PCA.std())"
   ]
  },
  {
   "cell_type": "markdown",
   "metadata": {},
   "source": [
    "It looks like we have some large standard deviations. In this case, we should also scale the data."
   ]
  },
  {
   "cell_type": "code",
   "execution_count": 45,
   "metadata": {},
   "outputs": [],
   "source": [
    "from sklearn.decomposition import PCA\n",
    "# Scaling data\n",
    "X_scale = StandardScaler().fit_transform(X_PCA)"
   ]
  },
  {
   "cell_type": "code",
   "execution_count": 46,
   "metadata": {},
   "outputs": [
    {
     "data": {
      "text/plain": [
       "[<matplotlib.lines.Line2D at 0x1a1d7a5390>]"
      ]
     },
     "execution_count": 46,
     "metadata": {},
     "output_type": "execute_result"
    },
    {
     "data": {
      "image/png": "[encoded data removed]",
      "text/plain": [
       "<Figure size 432x288 with 1 Axes>"
      ]
     },
     "metadata": {
      "needs_background": "light"
     },
     "output_type": "display_data"
    }
   ],
   "source": [
    "# Ploting scree plot\n",
    "pca_all = PCA().fit(X_scale)\n",
    "plt.plot(range(1, 14), np.cumsum(pca_all.explained_variance_ratio_))"
   ]
  },
  {
   "cell_type": "markdown",
   "metadata": {},
   "source": [
    "### c. How many principal components do you need to cover 90% variability?"
   ]
  },
  {
   "cell_type": "code",
   "execution_count": 47,
   "metadata": {},
   "outputs": [
    {
     "data": {
      "text/plain": [
       "(20433, 7)"
      ]
     },
     "execution_count": 47,
     "metadata": {},
     "output_type": "execute_result"
    }
   ],
   "source": [
    "pca1= PCA(0.9).fit(X_scale)\n",
    "X_trans = pca1.transform(X_scale)\n",
    "X_trans.shape"
   ]
  },
  {
   "cell_type": "markdown",
   "metadata": {},
   "source": [
    "We need 7 principle components to cover 90% variability. This makes the model is much simpler in a very short running time compared to the above Lasso regression. "
   ]
  },
  {
   "cell_type": "markdown",
   "metadata": {},
   "source": [
    "In conclusion, in order to choose models we have to be clear about: \n",
    "- Our purposes of inferences or predictions\n",
    "- Data's distribution, scales, data types to decide what we need to do in preprocessing data\n",
    "- Models' assumptions and evaluation methods depending on real life applications\n",
    "- Pros and cons of each models\n",
    "- Choices of tunning hyperparameters, their variance and bias trade-offs and their effects on each models\n",
    "- Estimated time each model runs "
   ]
  },
  {
   "cell_type": "code",
   "execution_count": null,
   "metadata": {},
   "outputs": [],
   "source": []
  }
 ],
 "metadata": {
  "kernelspec": {
   "display_name": "Python 3",
   "language": "python",
   "name": "python3"
  },
  "language_info": {
   "codemirror_mode": {
    "name": "ipython",
    "version": 3
   },
   "file_extension": ".py",
   "mimetype": "text/x-python",
   "name": "python",
   "nbconvert_exporter": "python",
   "pygments_lexer": "ipython3",
   "version": "3.7.6"
  }
 },
 "nbformat": 4,
 "nbformat_minor": 4
}
